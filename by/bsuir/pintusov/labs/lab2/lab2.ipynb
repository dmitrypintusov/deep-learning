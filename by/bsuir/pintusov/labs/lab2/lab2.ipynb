{
 "cells": [
  {
   "cell_type": "markdown",
   "metadata": {
    "collapsed": true,
    "pycharm": {
     "is_executing": false,
     "name": "#%% md\n"
    }
   },
   "source": [
    "## Лабораторная работа №2. Реализация глубокой нейронной сети\n",
    "\n",
    "#### Данные: \n",
    "В работе предлагается использовать набор данных notMNIST, который состоит из изображений размерностью 28×28 первых 10 букв латинского алфавита (A … J, соответственно). \n",
    "Обучающая выборка содержит порядка 500 тыс. изображений, а тестовая – около 19 тыс.\n",
    "#### Ход выполнения:\n",
    "###### Задание 1.\n",
    "Реализуйте полносвязную нейронную сеть с помощью библиотеки Tensor Flow.\n",
    "В качестве алгоритма оптимизации можно использовать, например, стохастический градиент (Stochastic Gradient Descent, SGD). \n",
    "Определите количество скрытых слоев от 1 до 5, количество нейронов в каждом из слоев до нескольких сотен, \n",
    "а также их функции активации (кусочно-линейная, сигмоидная, гиперболический тангенс и т.д.)."
   ]
  },
  {
   "cell_type": "markdown",
   "metadata": {},
   "source": [
    "Используем данные, которые сгенерировали в лабораторной работ №1. Загрузим из файла notMNIST.pickle"
   ]
  },
  {
   "cell_type": "code",
   "execution_count": 1,
   "metadata": {
    "pycharm": {
     "is_executing": false,
     "name": "#%%\n"
    },
    "scrolled": true
   },
   "outputs": [
    {
     "name": "stdout",
     "output_type": "stream",
     "text": [
      "Training set (200000, 28, 28) (200000,)\n",
      "Validation set (10000, 28, 28) (10000,)\n",
      "Test set (18000, 28, 28) (18000,)\n"
     ]
    }
   ],
   "source": [
    "from __future__ import print_function\n",
    "\n",
    "from six.moves import cPickle as pickle\n",
    "\n",
    "pickle_file = '../lab1/notMNIST.pickle'\n",
    "\n",
    "with open(pickle_file, 'rb') as file:\n",
    "    saved_pickle = pickle.load(file)\n",
    "    train_dataset = saved_pickle['train_dataset']\n",
    "    train_labels = saved_pickle['train_labels']\n",
    "    valid_dataset = saved_pickle['valid_dataset']\n",
    "    valid_labels = saved_pickle['valid_labels']\n",
    "    test_dataset = saved_pickle['test_dataset']\n",
    "    test_labels = saved_pickle['test_labels']\n",
    "    del saved_pickle  # gc free up memory\n",
    "    print('Training set', train_dataset.shape, train_labels.shape)\n",
    "    print('Validation set', valid_dataset.shape, valid_labels.shape)\n",
    "    print('Test set', test_dataset.shape, test_labels.shape)\n"
   ]
  },
  {
   "cell_type": "markdown",
   "metadata": {},
   "source": [
    "Отобразим несколько экзепляров из набора данных."
   ]
  },
  {
   "cell_type": "code",
   "execution_count": 2,
   "metadata": {
    "pycharm": {
     "is_executing": false
    }
   },
   "outputs": [
    {
     "data": {
      "image/png": "[encoded data removed]",
      "text/plain": [
       "<Figure size 432x288 with 8 Axes>"
      ]
     },
     "metadata": {
      "needs_background": "light"
     },
     "output_type": "display_data"
    }
   ],
   "source": [
    "import matplotlib.pyplot as plt\n",
    "import random\n",
    "\n",
    "%matplotlib inline\n",
    "\n",
    "\n",
    "pretty_labels = {0: 'A', 1: 'B', 2: 'C', 3: 'D', 4: 'E', 5: 'F', 6: 'G', 7: 'H', 8: 'I', 9: 'J'}\n",
    "\n",
    "def disp_sample_dataset(dataset, labels, title=None):\n",
    "    fig = plt.figure()\n",
    "    if title: fig.suptitle(title, fontsize=16, fontweight='bold')\n",
    "    items = random.sample(range(len(labels)), 8)\n",
    "    for i, item in enumerate(items):\n",
    "        plt.subplot(2, 4, i + 1)\n",
    "        plt.axis('off')\n",
    "        plt.title(chr(ord('A') + labels[item]))\n",
    "        plt.imshow(dataset[item])\n",
    "    plt.show()\n",
    " \n",
    "disp_sample_dataset(train_dataset, train_labels)"
   ]
  },
  {
   "cell_type": "markdown",
   "metadata": {},
   "source": [
    "Преобразуем данные, чтобы были более адаптированы к модели, которую собираемся тренировать:\n",
    "\n",
    "- данные в виде матрицы\n",
    "- маркеры в виде one-hot кодировки"
   ]
  },
  {
   "cell_type": "code",
   "execution_count": 3,
   "metadata": {
    "pycharm": {
     "is_executing": false
    }
   },
   "outputs": [
    {
     "name": "stdout",
     "output_type": "stream",
     "text": [
      "200000 train samples\n",
      "10000 validation samples\n",
      "18000 test samples\n"
     ]
    }
   ],
   "source": [
    "import tensorflow as tf\n",
    "\n",
    "train_images = train_dataset.reshape(200000, 784).astype('float32') / 255.0\n",
    "valid_images = valid_dataset.reshape(10000, 784).astype('float32') / 255.0\n",
    "test_images = test_dataset.reshape(18000, 784).astype('float32') / 255.0\n",
    "\n",
    "print(train_images.shape[0], 'train samples')\n",
    "print(valid_images.shape[0], 'validation samples')\n",
    "print(test_images.shape[0], 'test samples')\n",
    "\n",
    "train_labels = tf.keras.utils.to_categorical(train_labels, 10)\n",
    "valid_labels = tf.keras.utils.to_categorical(valid_labels, 10)\n",
    "test_labels = tf.keras.utils.to_categorical(test_labels, 10)"
   ]
  },
  {
   "cell_type": "markdown",
   "metadata": {},
   "source": [
    "Используем библиотеку TensorFlow (v.2) для реализации полносвязной нейронной сети.  \n",
    "  \n",
    "Добавим 3 полносвязных слоя (Dense). Первые два будут использовать 'RELu' в качестве функции активации, последний 'Softmax' для определения маркера класса от 0..10. Отобразим построенную модель."
   ]
  },
  {
   "cell_type": "code",
   "execution_count": 4,
   "metadata": {
    "pycharm": {
     "is_executing": false
    }
   },
   "outputs": [
    {
     "name": "stdout",
     "output_type": "stream",
     "text": [
      "Model: \"sequential\"\n",
      "_________________________________________________________________\n",
      "Layer (type)                 Output Shape              Param #   \n",
      "=================================================================\n",
      "dense (Dense)                (None, 100)               78500     \n",
      "_________________________________________________________________\n",
      "dense_1 (Dense)              (None, 200)               20200     \n",
      "_________________________________________________________________\n",
      "dense_2 (Dense)              (None, 10)                2010      \n",
      "=================================================================\n",
      "Total params: 100,710\n",
      "Trainable params: 100,710\n",
      "Non-trainable params: 0\n",
      "_________________________________________________________________\n"
     ]
    }
   ],
   "source": [
    "from tensorflow.keras import Sequential\n",
    "from tensorflow.keras.layers import Dense\n",
    "\n",
    "model = Sequential()\n",
    "model.add(Dense(100, input_dim=784, activation='relu'))\n",
    "model.add(Dense(200, activation='relu'))\n",
    "model.add(Dense(10, activation='softmax'))\n",
    "\n",
    "model.summary()"
   ]
  },
  {
   "cell_type": "markdown",
   "metadata": {},
   "source": [
    "Используем в качестве алгоритма оптимизации Adam, т.к. скорость работы и качество лучше, чем у SGD."
   ]
  },
  {
   "cell_type": "code",
   "execution_count": 5,
   "metadata": {
    "pycharm": {
     "is_executing": false
    },
    "scrolled": true
   },
   "outputs": [
    {
     "name": "stdout",
     "output_type": "stream",
     "text": [
      "Train on 200000 samples, validate on 10000 samples\n",
      "Epoch 1/15\n",
      "200000/200000 - 3s - loss: 0.7892 - accuracy: 0.7874 - val_loss: 0.5848 - val_accuracy: 0.8343\n",
      "Epoch 2/15\n",
      "200000/200000 - 3s - loss: 0.5383 - accuracy: 0.8422 - val_loss: 0.5090 - val_accuracy: 0.8488\n",
      "Epoch 3/15\n",
      "200000/200000 - 3s - loss: 0.4859 - accuracy: 0.8544 - val_loss: 0.4692 - val_accuracy: 0.8593\n",
      "Epoch 4/15\n",
      "200000/200000 - 3s - loss: 0.4535 - accuracy: 0.8624 - val_loss: 0.4426 - val_accuracy: 0.8665\n",
      "Epoch 5/15\n",
      "200000/200000 - 3s - loss: 0.4283 - accuracy: 0.8701 - val_loss: 0.4230 - val_accuracy: 0.8716\n",
      "Epoch 6/15\n",
      "200000/200000 - 4s - loss: 0.4079 - accuracy: 0.8763 - val_loss: 0.4074 - val_accuracy: 0.8757\n",
      "Epoch 7/15\n",
      "200000/200000 - 3s - loss: 0.3909 - accuracy: 0.8816 - val_loss: 0.3948 - val_accuracy: 0.8786\n",
      "Epoch 8/15\n",
      "200000/200000 - 3s - loss: 0.3765 - accuracy: 0.8859 - val_loss: 0.3854 - val_accuracy: 0.8826\n",
      "Epoch 9/15\n",
      "200000/200000 - 4s - loss: 0.3638 - accuracy: 0.8895 - val_loss: 0.3750 - val_accuracy: 0.8862\n",
      "Epoch 10/15\n",
      "200000/200000 - 3s - loss: 0.3538 - accuracy: 0.8926 - val_loss: 0.3753 - val_accuracy: 0.8848\n",
      "Epoch 11/15\n",
      "200000/200000 - 4s - loss: 0.3439 - accuracy: 0.8953 - val_loss: 0.3634 - val_accuracy: 0.8888\n",
      "Epoch 12/15\n",
      "200000/200000 - 4s - loss: 0.3358 - accuracy: 0.8977 - val_loss: 0.3594 - val_accuracy: 0.8892\n",
      "Epoch 13/15\n",
      "200000/200000 - 4s - loss: 0.3280 - accuracy: 0.8998 - val_loss: 0.3579 - val_accuracy: 0.8915\n",
      "Epoch 14/15\n",
      "200000/200000 - 3s - loss: 0.3210 - accuracy: 0.9019 - val_loss: 0.3542 - val_accuracy: 0.8919\n",
      "Epoch 15/15\n",
      "200000/200000 - 3s - loss: 0.3149 - accuracy: 0.9036 - val_loss: 0.3484 - val_accuracy: 0.8927\n"
     ]
    }
   ],
   "source": [
    "from tensorflow.keras.optimizers import Adam\n",
    "\n",
    "def train_model(nn_model):\n",
    "    adam = Adam(learning_rate=0.001, beta_1=0.9, beta_2=0.999, amsgrad=False)\n",
    "    nn_model.compile(optimizer=adam, loss='categorical_crossentropy', metrics=['accuracy'])\n",
    "\n",
    "    train_history = nn_model.fit(train_images, train_labels, batch_size=128, epochs=15, verbose=2, validation_data=(valid_images, valid_labels))\n",
    "    return train_history\n",
    "\n",
    "history = train_model(model)"
   ]
  },
  {
   "cell_type": "markdown",
   "metadata": {},
   "source": [
    "Отобразим графики точности обучения и потерь."
   ]
  },
  {
   "cell_type": "code",
   "execution_count": 6,
   "metadata": {
    "pycharm": {
     "is_executing": false
    }
   },
   "outputs": [
    {
     "data": {
      "image/png": "[encoded data removed]",
      "text/plain": [
       "<Figure size 432x288 with 1 Axes>"
      ]
     },
     "metadata": {
      "needs_background": "light"
     },
     "output_type": "display_data"
    },
    {
     "data": {
      "image/png": "[encoded data removed]",
      "text/plain": [
       "<Figure size 432x288 with 1 Axes>"
      ]
     },
     "metadata": {
      "needs_background": "light"
     },
     "output_type": "display_data"
    }
   ],
   "source": [
    "def plot_history(history_to_plot):\n",
    "    plt.plot(history_to_plot.history['accuracy'], label='accuracy')\n",
    "    plt.plot(history_to_plot.history['val_accuracy'], label='val_accuracy')\n",
    "    plt.xlabel('Epoch')\n",
    "    plt.ylabel('Accuracy')\n",
    "    plt.ylim([0.7, 1])\n",
    "    plt.legend(loc='best')\n",
    "    plt.show()\n",
    "\n",
    "    plt.plot(history_to_plot.history['loss'], label='loss')\n",
    "    plt.plot(history_to_plot.history['val_loss'], label='val_loss')\n",
    "    plt.xlabel('Epoch')\n",
    "    plt.ylabel('Loss')\n",
    "    plt.legend(loc='best')\n",
    "    plt.show()\n",
    " \n",
    "plot_history(history)    "
   ]
  },
  {
   "cell_type": "markdown",
   "metadata": {},
   "source": [
    "###### Задание 2.\n",
    "Как улучшилась точность классификатора по сравнению с логистической регрессией?"
   ]
  },
  {
   "cell_type": "code",
   "execution_count": 7,
   "metadata": {
    "pycharm": {
     "is_executing": false
    },
    "scrolled": true
   },
   "outputs": [
    {
     "name": "stdout",
     "output_type": "stream",
     "text": [
      "18000/1 - 0s - loss: 0.2321 - accuracy: 0.9486\n",
      "Test accuracy = 94.86%\n",
      "Test loss = 17.63%\n"
     ]
    }
   ],
   "source": [
    "def test_model(test_on_model):\n",
    "    test_loss, test_accuracy = test_on_model.evaluate(test_images, test_labels, verbose=2)\n",
    "    print('Test accuracy = {0:.2f}%\\nTest loss = {1:.2f}%'.format(test_accuracy*100.0, test_loss*100.0))\n",
    "\n",
    "test_model(model)"
   ]
  },
  {
   "cell_type": "markdown",
   "metadata": {
    "pycharm": {
     "is_executing": false
    }
   },
   "source": [
    "По сравнению с логистической регрессией из 1 лабораторной работы точность выросла с 88.7% до 94.9%.\n"
   ]
  },
  {
   "cell_type": "markdown",
   "metadata": {},
   "source": [
    "###### Задание 3.\n",
    "Используйте регуляризацию и метод сброса нейронов (dropout) для борьбы с переобучением. Как улучшилось качество классификации?\n"
   ]
  },
  {
   "cell_type": "code",
   "execution_count": 8,
   "metadata": {},
   "outputs": [
    {
     "name": "stdout",
     "output_type": "stream",
     "text": [
      "Model: \"sequential_1\"\n",
      "_________________________________________________________________\n",
      "Layer (type)                 Output Shape              Param #   \n",
      "=================================================================\n",
      "dense_3 (Dense)              (None, 100)               78500     \n",
      "_________________________________________________________________\n",
      "batch_normalization (BatchNo (None, 100)               400       \n",
      "_________________________________________________________________\n",
      "dense_4 (Dense)              (None, 200)               20200     \n",
      "_________________________________________________________________\n",
      "dropout (Dropout)            (None, 200)               0         \n",
      "_________________________________________________________________\n",
      "dense_5 (Dense)              (None, 10)                2010      \n",
      "=================================================================\n",
      "Total params: 101,110\n",
      "Trainable params: 100,910\n",
      "Non-trainable params: 200\n",
      "_________________________________________________________________\n"
     ]
    }
   ],
   "source": [
    "from tensorflow.keras.layers import Dropout\n",
    "from tensorflow.keras.layers import BatchNormalization\n",
    "\n",
    "model = Sequential()\n",
    "model.add(Dense(100, input_dim=784, activation='relu'))\n",
    "model.add(BatchNormalization())\n",
    "model.add(Dense(200, activation='relu'))\n",
    "model.add(Dropout(0.5))\n",
    "model.add(Dense(10, activation='softmax'))\n",
    "\n",
    "model.summary()"
   ]
  },
  {
   "cell_type": "code",
   "execution_count": 9,
   "metadata": {},
   "outputs": [
    {
     "name": "stdout",
     "output_type": "stream",
     "text": [
      "Train on 200000 samples, validate on 10000 samples\n",
      "Epoch 1/15\n",
      "200000/200000 - 5s - loss: 0.5966 - accuracy: 0.8246 - val_loss: 0.4651 - val_accuracy: 0.8574\n",
      "Epoch 2/15\n",
      "200000/200000 - 4s - loss: 0.4706 - accuracy: 0.8578 - val_loss: 0.4297 - val_accuracy: 0.8677\n",
      "Epoch 3/15\n",
      "200000/200000 - 4s - loss: 0.4340 - accuracy: 0.8674 - val_loss: 0.4062 - val_accuracy: 0.8721\n",
      "Epoch 4/15\n",
      "200000/200000 - 4s - loss: 0.4115 - accuracy: 0.8736 - val_loss: 0.3837 - val_accuracy: 0.8823\n",
      "Epoch 5/15\n",
      "200000/200000 - 4s - loss: 0.3953 - accuracy: 0.8782 - val_loss: 0.3864 - val_accuracy: 0.8806\n",
      "Epoch 6/15\n",
      "200000/200000 - 4s - loss: 0.3835 - accuracy: 0.8820 - val_loss: 0.3730 - val_accuracy: 0.8832\n",
      "Epoch 7/15\n",
      "200000/200000 - 5s - loss: 0.3720 - accuracy: 0.8847 - val_loss: 0.3735 - val_accuracy: 0.8827\n",
      "Epoch 8/15\n",
      "200000/200000 - 5s - loss: 0.3643 - accuracy: 0.8867 - val_loss: 0.3552 - val_accuracy: 0.8915\n",
      "Epoch 9/15\n",
      "200000/200000 - 4s - loss: 0.3577 - accuracy: 0.8891 - val_loss: 0.3524 - val_accuracy: 0.8924\n",
      "Epoch 10/15\n",
      "200000/200000 - 4s - loss: 0.3511 - accuracy: 0.8909 - val_loss: 0.3608 - val_accuracy: 0.8887\n",
      "Epoch 11/15\n",
      "200000/200000 - 5s - loss: 0.3469 - accuracy: 0.8919 - val_loss: 0.3525 - val_accuracy: 0.8914\n",
      "Epoch 12/15\n",
      "200000/200000 - 5s - loss: 0.3410 - accuracy: 0.8935 - val_loss: 0.3439 - val_accuracy: 0.8920\n",
      "Epoch 13/15\n",
      "200000/200000 - 5s - loss: 0.3357 - accuracy: 0.8950 - val_loss: 0.3430 - val_accuracy: 0.8931\n",
      "Epoch 14/15\n",
      "200000/200000 - 5s - loss: 0.3306 - accuracy: 0.8962 - val_loss: 0.3394 - val_accuracy: 0.8968\n",
      "Epoch 15/15\n",
      "200000/200000 - 5s - loss: 0.3283 - accuracy: 0.8966 - val_loss: 0.3424 - val_accuracy: 0.8946\n"
     ]
    },
    {
     "data": {
      "image/png": "[encoded data removed]",
      "text/plain": [
       "<Figure size 432x288 with 1 Axes>"
      ]
     },
     "metadata": {
      "needs_background": "light"
     },
     "output_type": "display_data"
    },
    {
     "data": {
      "image/png": "[encoded data removed]",
      "text/plain": [
       "<Figure size 432x288 with 1 Axes>"
      ]
     },
     "metadata": {
      "needs_background": "light"
     },
     "output_type": "display_data"
    },
    {
     "name": "stdout",
     "output_type": "stream",
     "text": [
      "18000/1 - 1s - loss: 0.2079 - accuracy: 0.9486\n",
      "Test accuracy = 94.86%\n",
      "Test loss = 17.03%\n"
     ]
    }
   ],
   "source": [
    "history = train_model(model)\n",
    "plot_history(history)\n",
    "test_model(model)"
   ]
  },
  {
   "cell_type": "markdown",
   "metadata": {},
   "source": [
    "###### Задание 4.\n",
    "Воспользуйтесь динамически изменяемой скоростью обучения (learning rate). Наилучшая точность, достигнутая с помощью данной модели составляет 97.1%. Какую точность демонстрирует Ваша реализованная модель?"
   ]
  },
  {
   "cell_type": "markdown",
   "metadata": {
    "pycharm": {
     "name": "#%% md\n"
    }
   },
   "source": [
    "Так как используем Adam в качестве алгоритма оптимизации, нет необходимости настраивать динамически изменяемую скорость обучения (learning rate) - decay идет из коробки.   \n",
    "  \n",
    "tensorflow/tensorflow/python/training/adam.py  \n",
    "Line 176 in f9c5e71  \n",
    " lr = (lr_t * math_ops.sqrt(1 - beta2_power) / (1 - beta1_power)) \n"
   ]
  },
  {
   "cell_type": "markdown",
   "metadata": {},
   "source": [
    "Таким образом, реализованная в данной лабораторной работе модель дает результат точности в 94.86%."
   ]
  },
  {
   "cell_type": "code",
   "execution_count": null,
   "metadata": {},
   "outputs": [],
   "source": []
  }
 ],
 "metadata": {
  "kernelspec": {
   "display_name": "Python 3",
   "language": "python",
   "name": "python3"
  },
  "language_info": {
   "codemirror_mode": {
    "name": "ipython",
    "version": 3
   },
   "file_extension": ".py",
   "mimetype": "text/x-python",
   "name": "python",
   "nbconvert_exporter": "python",
   "pygments_lexer": "ipython3",
   "version": "3.7.4"
  },
  "pycharm": {
   "stem_cell": {
    "cell_type": "raw",
    "metadata": {
     "collapsed": false
    },
    "source": []
   }
  }
 },
 "nbformat": 4,
 "nbformat_minor": 1
}
